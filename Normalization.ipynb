{
  "cells": [
    {
      "cell_type": "markdown",
      "metadata": {
        "id": "KRTtoVj4JASf"
      },
      "source": [
        "Phyu_ShunLei_Weekly Assignment 1_Q8\n"
      ]
    },
    {
      "cell_type": "code",
      "execution_count": 4,
      "metadata": {
        "colab": {
          "base_uri": "https://localhost:8080/"
        },
        "id": "-wa3-e5IHIPo",
        "outputId": "91cb2e5b-5ae8-4e0c-eb53-33f303b9054d"
      },
      "outputs": [
        {
          "name": "stdout",
          "output_type": "stream",
          "text": [
            "   Age  Income($)\n",
            "0   25      49000\n",
            "1   56     156000\n",
            "2   65      99000\n",
            "3   32     192000\n",
            "4   41      39000\n",
            "5   49      57000\n"
          ]
        }
      ],
      "source": [
        "# import pandas and numpy libraries\n",
        "import numpy as np\n",
        "import pandas as pd\n",
        "# import pandas and numpy libraries\n",
        "import numpy as np\n",
        "import pandas as pd\n",
        "# create a data frame\n",
        "df = pd.DataFrame({\n",
        "'Age': [25,56,65,32,41,49],\n",
        "'Income($)': [49000,156000,99000,192000,39000,57000]\n",
        "})\n",
        "print(df)\n",
        "\n",
        "\n"
      ]
    },
    {
      "cell_type": "code",
      "execution_count": 6,
      "metadata": {
        "colab": {
          "base_uri": "https://localhost:8080/"
        },
        "id": "fEpsK2xZIeNg",
        "outputId": "8d216068-306b-4052-e020-8170d595a4c9"
      },
      "outputs": [
        {
          "name": "stdout",
          "output_type": "stream",
          "text": [
            "        Age  Income($)\n",
            "0 -1.438597  -0.865431\n",
            "1  0.829022   0.999021\n",
            "2  1.487363   0.005808\n",
            "3 -0.926554   1.626314\n",
            "4 -0.268213  -1.039679\n",
            "5  0.316979  -0.726033\n"
          ]
        }
      ],
      "source": [
        "# import preprocessing\n",
        "# Normalizing a data frame in sci-kit learn\n",
        "from sklearn import preprocessing\n",
        "from sklearn.preprocessing import StandardScaler\n",
        "# scikit-learn:\n",
        "scaler = StandardScaler()\n",
        "norm_df2 = pd.DataFrame(scaler.fit_transform(df),\n",
        "index=df.index, columns=df.columns)\n",
        "# the result of the transformation is a numpy array, we convert it into a dataframe\n",
        "print(norm_df2)\n"
      ]
    }
  ],
  "metadata": {
    "colab": {
      "provenance": []
    },
    "kernelspec": {
      "display_name": "Python 3",
      "name": "python3"
    },
    "language_info": {
      "name": "python"
    }
  },
  "nbformat": 4,
  "nbformat_minor": 0
}
